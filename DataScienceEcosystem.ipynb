{
 "cells": [
  {
   "cell_type": "markdown",
   "id": "cc23d2b4",
   "metadata": {},
   "source": [
    "# This Data Science Tools and Ecosystem"
   ]
  },
  {
   "cell_type": "markdown",
   "id": "87c6f50c",
   "metadata": {},
   "source": [
    "In this notebook, Data Science Tools and Ecosystem are summarized."
   ]
  },
  {
   "cell_type": "markdown",
   "id": "dea4625f",
   "metadata": {},
   "source": [
    "**Objectives:**\n",
    "\n",
    "- Categories of Data Science:\n",
    "    1. Data Management\n",
    "    2. Data Integration and Transformation\n",
    "    3. Data Visualization\n",
    "    4. Model Building\n",
    "    5. Model Deployment\n",
    "    6. Model Monitoring and Assessment\n",
    "    7. Code Asset Management\n",
    "    8. Development Environments\n",
    "    9. Execution Environments\n",
    "\n",
    "- Open-source Tools\n",
    "- Commercial Tools\n",
    "- Jupyter Notebook\n",
    "- Jupyter Architecture\n",
    "- Anaconda\n",
    "- API and REST API\n",
    "- RStudio\n",
    "- Dataset\n",
    "- License of Dataset"
   ]
  },
  {
   "cell_type": "markdown",
   "id": "febf40e2",
   "metadata": {},
   "source": [
    "Some of the popular languages that Data Scientists use are:\n",
    "    \n",
    "    1. Python\n",
    "    2. R\n",
    "    3. SQL"
   ]
  },
  {
   "cell_type": "markdown",
   "id": "ec0e007f",
   "metadata": {},
   "source": [
    "Some of the commonly used libraries used by Data Scientists include:\n",
    "\n",
    "    1.NumPy\n",
    "    2.Pandas\n",
    "    3.Matplotlib\n",
    "    4.Scikit-learn\n",
    "    5.Seaborn\n",
    "    6.TensorFlow and PyTorch"
   ]
  },
  {
   "cell_type": "markdown",
   "id": "98a876a0",
   "metadata": {},
   "source": [
    "| Data Science Tools    |\n",
    "|-----------------------|\n",
    "| Jupyter Notebooks     |\n",
    "| RStudio               |\n",
    "| VS Code (Visual Studio Code) |"
   ]
  },
  {
   "cell_type": "markdown",
   "id": "840dc454",
   "metadata": {},
   "source": [
    "### Below are a few examples of evaluating arithmetic expressions in Python"
   ]
  },
  {
   "cell_type": "code",
   "execution_count": 19,
   "id": "048c9dc0",
   "metadata": {},
   "outputs": [
    {
     "name": "stdout",
     "output_type": "stream",
     "text": [
      "This a simple arithmetic expression to mutiply then add integers 17\n"
     ]
    }
   ],
   "source": [
    "print(\"This a simple arithmetic expression to mutiply then add integers\", (3*4)+5)"
   ]
  },
  {
   "cell_type": "code",
   "execution_count": 20,
   "id": "1cc19a43",
   "metadata": {},
   "outputs": [
    {
     "name": "stdout",
     "output_type": "stream",
     "text": [
      "This will convert 200 minutes to hours by diving by 60\n",
      "200  minutes are equal to 3.3333333333333335 hours.\n"
     ]
    }
   ],
   "source": [
    "minutes = 200\n",
    "hours = minutes / 60\n",
    "print(\"This will convert 200 minutes to hours by diving by 60\")\n",
    "print(minutes, \" minutes are equal to\", hours, \"hours.\")"
   ]
  },
  {
   "cell_type": "markdown",
   "id": "05e703e8",
   "metadata": {},
   "source": [
    "## Author\n",
    "Andrea Marchi"
   ]
  },
  {
   "cell_type": "code",
   "execution_count": null,
   "id": "c77fa818",
   "metadata": {},
   "outputs": [],
   "source": []
  }
 ],
 "metadata": {
  "kernelspec": {
   "display_name": "Python 3 (ipykernel)",
   "language": "python",
   "name": "python3"
  },
  "language_info": {
   "codemirror_mode": {
    "name": "ipython",
    "version": 3
   },
   "file_extension": ".py",
   "mimetype": "text/x-python",
   "name": "python",
   "nbconvert_exporter": "python",
   "pygments_lexer": "ipython3",
   "version": "3.11.5"
  }
 },
 "nbformat": 4,
 "nbformat_minor": 5
}
